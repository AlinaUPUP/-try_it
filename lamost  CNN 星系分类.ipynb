{
 "cells": [
  {
   "cell_type": "code",
   "execution_count": 129,
   "metadata": {},
   "outputs": [],
   "source": [
    "import pandas as pd\n",
    "from sklearn.utils import shuffle\n",
    "from sklearn.model_selection import train_test_split\n",
    "import tensorflow as tf\n",
    "from tensorflow.keras import models,layers,callbacks\n",
    "from tensorflow.keras.utils import to_categorical,plot_model\n",
    "import matplotlib.pyplot as plt\n",
    "from sklearn import metrics"
   ]
  },
  {
   "cell_type": "code",
   "execution_count": 130,
   "metadata": {},
   "outputs": [],
   "source": [
    "galaxies = pd.read_csv('./LAMOST_spectra/galaxy_standardised.csv')\n",
    "qsos = pd.read_csv('./LAMOST_spectra/qso_standardised.csv')\n",
    "spectras = galaxies.append(qsos)"
   ]
  },
  {
   "cell_type": "code",
   "execution_count": 131,
   "metadata": {},
   "outputs": [
    {
     "data": {
      "text/html": [
       "<div>\n",
       "<style scoped>\n",
       "    .dataframe tbody tr th:only-of-type {\n",
       "        vertical-align: middle;\n",
       "    }\n",
       "\n",
       "    .dataframe tbody tr th {\n",
       "        vertical-align: top;\n",
       "    }\n",
       "\n",
       "    .dataframe thead th {\n",
       "        text-align: right;\n",
       "    }\n",
       "</style>\n",
       "<table border=\"1\" class=\"dataframe\">\n",
       "  <thead>\n",
       "    <tr style=\"text-align: right;\">\n",
       "      <th></th>\n",
       "      <th>0</th>\n",
       "      <th>1</th>\n",
       "      <th>2</th>\n",
       "      <th>3</th>\n",
       "      <th>4</th>\n",
       "      <th>5</th>\n",
       "      <th>6</th>\n",
       "      <th>7</th>\n",
       "      <th>8</th>\n",
       "      <th>9</th>\n",
       "      <th>...</th>\n",
       "      <th>2541</th>\n",
       "      <th>2542</th>\n",
       "      <th>2543</th>\n",
       "      <th>2544</th>\n",
       "      <th>2545</th>\n",
       "      <th>2546</th>\n",
       "      <th>2547</th>\n",
       "      <th>2548</th>\n",
       "      <th>2549</th>\n",
       "      <th>type</th>\n",
       "    </tr>\n",
       "  </thead>\n",
       "  <tbody>\n",
       "    <tr>\n",
       "      <th>183</th>\n",
       "      <td>0.520420</td>\n",
       "      <td>0.796625</td>\n",
       "      <td>1.413814</td>\n",
       "      <td>0.764956</td>\n",
       "      <td>0.518733</td>\n",
       "      <td>1.521226</td>\n",
       "      <td>1.566453</td>\n",
       "      <td>1.548385</td>\n",
       "      <td>0.599072</td>\n",
       "      <td>0.847522</td>\n",
       "      <td>...</td>\n",
       "      <td>0.598801</td>\n",
       "      <td>0.373492</td>\n",
       "      <td>-0.824916</td>\n",
       "      <td>0.712631</td>\n",
       "      <td>0.995689</td>\n",
       "      <td>0.801263</td>\n",
       "      <td>0.814050</td>\n",
       "      <td>0.908927</td>\n",
       "      <td>0.925360</td>\n",
       "      <td>2</td>\n",
       "    </tr>\n",
       "    <tr>\n",
       "      <th>641</th>\n",
       "      <td>1.904963</td>\n",
       "      <td>1.733844</td>\n",
       "      <td>1.312233</td>\n",
       "      <td>1.294592</td>\n",
       "      <td>2.325209</td>\n",
       "      <td>2.242320</td>\n",
       "      <td>1.814656</td>\n",
       "      <td>1.693423</td>\n",
       "      <td>1.959508</td>\n",
       "      <td>2.122070</td>\n",
       "      <td>...</td>\n",
       "      <td>1.326703</td>\n",
       "      <td>2.017314</td>\n",
       "      <td>0.467593</td>\n",
       "      <td>0.678183</td>\n",
       "      <td>0.910054</td>\n",
       "      <td>0.757424</td>\n",
       "      <td>0.681956</td>\n",
       "      <td>0.623207</td>\n",
       "      <td>0.697678</td>\n",
       "      <td>3</td>\n",
       "    </tr>\n",
       "    <tr>\n",
       "      <th>1888</th>\n",
       "      <td>2.117233</td>\n",
       "      <td>-0.117027</td>\n",
       "      <td>1.701781</td>\n",
       "      <td>1.581559</td>\n",
       "      <td>3.221272</td>\n",
       "      <td>2.307321</td>\n",
       "      <td>1.833122</td>\n",
       "      <td>2.771673</td>\n",
       "      <td>0.508816</td>\n",
       "      <td>0.976961</td>\n",
       "      <td>...</td>\n",
       "      <td>0.749147</td>\n",
       "      <td>1.345877</td>\n",
       "      <td>-0.411363</td>\n",
       "      <td>-0.645604</td>\n",
       "      <td>-0.326204</td>\n",
       "      <td>1.337881</td>\n",
       "      <td>0.607589</td>\n",
       "      <td>0.256465</td>\n",
       "      <td>0.595038</td>\n",
       "      <td>3</td>\n",
       "    </tr>\n",
       "    <tr>\n",
       "      <th>756</th>\n",
       "      <td>0.642569</td>\n",
       "      <td>0.728573</td>\n",
       "      <td>0.828791</td>\n",
       "      <td>1.073927</td>\n",
       "      <td>1.248145</td>\n",
       "      <td>0.705394</td>\n",
       "      <td>0.754607</td>\n",
       "      <td>0.986046</td>\n",
       "      <td>0.810766</td>\n",
       "      <td>0.808010</td>\n",
       "      <td>...</td>\n",
       "      <td>0.634465</td>\n",
       "      <td>0.664933</td>\n",
       "      <td>0.684013</td>\n",
       "      <td>0.667660</td>\n",
       "      <td>0.639196</td>\n",
       "      <td>0.604026</td>\n",
       "      <td>0.647809</td>\n",
       "      <td>0.671833</td>\n",
       "      <td>0.669317</td>\n",
       "      <td>2</td>\n",
       "    </tr>\n",
       "    <tr>\n",
       "      <th>237</th>\n",
       "      <td>-1.115247</td>\n",
       "      <td>3.226563</td>\n",
       "      <td>0.663883</td>\n",
       "      <td>0.856039</td>\n",
       "      <td>-0.075342</td>\n",
       "      <td>2.971668</td>\n",
       "      <td>3.536978</td>\n",
       "      <td>2.138347</td>\n",
       "      <td>1.860007</td>\n",
       "      <td>1.488960</td>\n",
       "      <td>...</td>\n",
       "      <td>3.197236</td>\n",
       "      <td>3.451466</td>\n",
       "      <td>1.094434</td>\n",
       "      <td>-0.854920</td>\n",
       "      <td>-0.705939</td>\n",
       "      <td>0.053918</td>\n",
       "      <td>0.118448</td>\n",
       "      <td>0.596912</td>\n",
       "      <td>0.931616</td>\n",
       "      <td>3</td>\n",
       "    </tr>\n",
       "  </tbody>\n",
       "</table>\n",
       "<p>5 rows × 2551 columns</p>\n",
       "</div>"
      ],
      "text/plain": [
       "             0         1         2         3         4         5         6  \\\n",
       "183   0.520420  0.796625  1.413814  0.764956  0.518733  1.521226  1.566453   \n",
       "641   1.904963  1.733844  1.312233  1.294592  2.325209  2.242320  1.814656   \n",
       "1888  2.117233 -0.117027  1.701781  1.581559  3.221272  2.307321  1.833122   \n",
       "756   0.642569  0.728573  0.828791  1.073927  1.248145  0.705394  0.754607   \n",
       "237  -1.115247  3.226563  0.663883  0.856039 -0.075342  2.971668  3.536978   \n",
       "\n",
       "             7         8         9  ...      2541      2542      2543  \\\n",
       "183   1.548385  0.599072  0.847522  ...  0.598801  0.373492 -0.824916   \n",
       "641   1.693423  1.959508  2.122070  ...  1.326703  2.017314  0.467593   \n",
       "1888  2.771673  0.508816  0.976961  ...  0.749147  1.345877 -0.411363   \n",
       "756   0.986046  0.810766  0.808010  ...  0.634465  0.664933  0.684013   \n",
       "237   2.138347  1.860007  1.488960  ...  3.197236  3.451466  1.094434   \n",
       "\n",
       "          2544      2545      2546      2547      2548      2549  type  \n",
       "183   0.712631  0.995689  0.801263  0.814050  0.908927  0.925360     2  \n",
       "641   0.678183  0.910054  0.757424  0.681956  0.623207  0.697678     3  \n",
       "1888 -0.645604 -0.326204  1.337881  0.607589  0.256465  0.595038     3  \n",
       "756   0.667660  0.639196  0.604026  0.647809  0.671833  0.669317     2  \n",
       "237  -0.854920 -0.705939  0.053918  0.118448  0.596912  0.931616     3  \n",
       "\n",
       "[5 rows x 2551 columns]"
      ]
     },
     "execution_count": 131,
     "metadata": {},
     "output_type": "execute_result"
    }
   ],
   "source": [
    "spectras= shuffle(spectras)\n",
    "spectras.head()"
   ]
  },
  {
   "cell_type": "code",
   "execution_count": 132,
   "metadata": {},
   "outputs": [],
   "source": [
    "spectras.loc[spectras['type'] == 2,'type'] = 0\n",
    "spectras.loc[spectras['type'] == 3,'type'] = 1"
   ]
  },
  {
   "cell_type": "code",
   "execution_count": 133,
   "metadata": {},
   "outputs": [
    {
     "data": {
      "text/html": [
       "<div>\n",
       "<style scoped>\n",
       "    .dataframe tbody tr th:only-of-type {\n",
       "        vertical-align: middle;\n",
       "    }\n",
       "\n",
       "    .dataframe tbody tr th {\n",
       "        vertical-align: top;\n",
       "    }\n",
       "\n",
       "    .dataframe thead th {\n",
       "        text-align: right;\n",
       "    }\n",
       "</style>\n",
       "<table border=\"1\" class=\"dataframe\">\n",
       "  <thead>\n",
       "    <tr style=\"text-align: right;\">\n",
       "      <th></th>\n",
       "      <th>0</th>\n",
       "      <th>1</th>\n",
       "      <th>2</th>\n",
       "      <th>3</th>\n",
       "      <th>4</th>\n",
       "      <th>5</th>\n",
       "      <th>6</th>\n",
       "      <th>7</th>\n",
       "      <th>8</th>\n",
       "      <th>9</th>\n",
       "      <th>...</th>\n",
       "      <th>2541</th>\n",
       "      <th>2542</th>\n",
       "      <th>2543</th>\n",
       "      <th>2544</th>\n",
       "      <th>2545</th>\n",
       "      <th>2546</th>\n",
       "      <th>2547</th>\n",
       "      <th>2548</th>\n",
       "      <th>2549</th>\n",
       "      <th>type</th>\n",
       "    </tr>\n",
       "  </thead>\n",
       "  <tbody>\n",
       "    <tr>\n",
       "      <th>183</th>\n",
       "      <td>0.520420</td>\n",
       "      <td>0.796625</td>\n",
       "      <td>1.413814</td>\n",
       "      <td>0.764956</td>\n",
       "      <td>0.518733</td>\n",
       "      <td>1.521226</td>\n",
       "      <td>1.566453</td>\n",
       "      <td>1.548385</td>\n",
       "      <td>0.599072</td>\n",
       "      <td>0.847522</td>\n",
       "      <td>...</td>\n",
       "      <td>0.598801</td>\n",
       "      <td>0.373492</td>\n",
       "      <td>-0.824916</td>\n",
       "      <td>0.712631</td>\n",
       "      <td>0.995689</td>\n",
       "      <td>0.801263</td>\n",
       "      <td>0.814050</td>\n",
       "      <td>0.908927</td>\n",
       "      <td>0.925360</td>\n",
       "      <td>0</td>\n",
       "    </tr>\n",
       "    <tr>\n",
       "      <th>641</th>\n",
       "      <td>1.904963</td>\n",
       "      <td>1.733844</td>\n",
       "      <td>1.312233</td>\n",
       "      <td>1.294592</td>\n",
       "      <td>2.325209</td>\n",
       "      <td>2.242320</td>\n",
       "      <td>1.814656</td>\n",
       "      <td>1.693423</td>\n",
       "      <td>1.959508</td>\n",
       "      <td>2.122070</td>\n",
       "      <td>...</td>\n",
       "      <td>1.326703</td>\n",
       "      <td>2.017314</td>\n",
       "      <td>0.467593</td>\n",
       "      <td>0.678183</td>\n",
       "      <td>0.910054</td>\n",
       "      <td>0.757424</td>\n",
       "      <td>0.681956</td>\n",
       "      <td>0.623207</td>\n",
       "      <td>0.697678</td>\n",
       "      <td>1</td>\n",
       "    </tr>\n",
       "    <tr>\n",
       "      <th>1888</th>\n",
       "      <td>2.117233</td>\n",
       "      <td>-0.117027</td>\n",
       "      <td>1.701781</td>\n",
       "      <td>1.581559</td>\n",
       "      <td>3.221272</td>\n",
       "      <td>2.307321</td>\n",
       "      <td>1.833122</td>\n",
       "      <td>2.771673</td>\n",
       "      <td>0.508816</td>\n",
       "      <td>0.976961</td>\n",
       "      <td>...</td>\n",
       "      <td>0.749147</td>\n",
       "      <td>1.345877</td>\n",
       "      <td>-0.411363</td>\n",
       "      <td>-0.645604</td>\n",
       "      <td>-0.326204</td>\n",
       "      <td>1.337881</td>\n",
       "      <td>0.607589</td>\n",
       "      <td>0.256465</td>\n",
       "      <td>0.595038</td>\n",
       "      <td>1</td>\n",
       "    </tr>\n",
       "    <tr>\n",
       "      <th>756</th>\n",
       "      <td>0.642569</td>\n",
       "      <td>0.728573</td>\n",
       "      <td>0.828791</td>\n",
       "      <td>1.073927</td>\n",
       "      <td>1.248145</td>\n",
       "      <td>0.705394</td>\n",
       "      <td>0.754607</td>\n",
       "      <td>0.986046</td>\n",
       "      <td>0.810766</td>\n",
       "      <td>0.808010</td>\n",
       "      <td>...</td>\n",
       "      <td>0.634465</td>\n",
       "      <td>0.664933</td>\n",
       "      <td>0.684013</td>\n",
       "      <td>0.667660</td>\n",
       "      <td>0.639196</td>\n",
       "      <td>0.604026</td>\n",
       "      <td>0.647809</td>\n",
       "      <td>0.671833</td>\n",
       "      <td>0.669317</td>\n",
       "      <td>0</td>\n",
       "    </tr>\n",
       "    <tr>\n",
       "      <th>237</th>\n",
       "      <td>-1.115247</td>\n",
       "      <td>3.226563</td>\n",
       "      <td>0.663883</td>\n",
       "      <td>0.856039</td>\n",
       "      <td>-0.075342</td>\n",
       "      <td>2.971668</td>\n",
       "      <td>3.536978</td>\n",
       "      <td>2.138347</td>\n",
       "      <td>1.860007</td>\n",
       "      <td>1.488960</td>\n",
       "      <td>...</td>\n",
       "      <td>3.197236</td>\n",
       "      <td>3.451466</td>\n",
       "      <td>1.094434</td>\n",
       "      <td>-0.854920</td>\n",
       "      <td>-0.705939</td>\n",
       "      <td>0.053918</td>\n",
       "      <td>0.118448</td>\n",
       "      <td>0.596912</td>\n",
       "      <td>0.931616</td>\n",
       "      <td>1</td>\n",
       "    </tr>\n",
       "  </tbody>\n",
       "</table>\n",
       "<p>5 rows × 2551 columns</p>\n",
       "</div>"
      ],
      "text/plain": [
       "             0         1         2         3         4         5         6  \\\n",
       "183   0.520420  0.796625  1.413814  0.764956  0.518733  1.521226  1.566453   \n",
       "641   1.904963  1.733844  1.312233  1.294592  2.325209  2.242320  1.814656   \n",
       "1888  2.117233 -0.117027  1.701781  1.581559  3.221272  2.307321  1.833122   \n",
       "756   0.642569  0.728573  0.828791  1.073927  1.248145  0.705394  0.754607   \n",
       "237  -1.115247  3.226563  0.663883  0.856039 -0.075342  2.971668  3.536978   \n",
       "\n",
       "             7         8         9  ...      2541      2542      2543  \\\n",
       "183   1.548385  0.599072  0.847522  ...  0.598801  0.373492 -0.824916   \n",
       "641   1.693423  1.959508  2.122070  ...  1.326703  2.017314  0.467593   \n",
       "1888  2.771673  0.508816  0.976961  ...  0.749147  1.345877 -0.411363   \n",
       "756   0.986046  0.810766  0.808010  ...  0.634465  0.664933  0.684013   \n",
       "237   2.138347  1.860007  1.488960  ...  3.197236  3.451466  1.094434   \n",
       "\n",
       "          2544      2545      2546      2547      2548      2549  type  \n",
       "183   0.712631  0.995689  0.801263  0.814050  0.908927  0.925360     0  \n",
       "641   0.678183  0.910054  0.757424  0.681956  0.623207  0.697678     1  \n",
       "1888 -0.645604 -0.326204  1.337881  0.607589  0.256465  0.595038     1  \n",
       "756   0.667660  0.639196  0.604026  0.647809  0.671833  0.669317     0  \n",
       "237  -0.854920 -0.705939  0.053918  0.118448  0.596912  0.931616     1  \n",
       "\n",
       "[5 rows x 2551 columns]"
      ]
     },
     "execution_count": 133,
     "metadata": {},
     "output_type": "execute_result"
    }
   ],
   "source": [
    "spectras.head()"
   ]
  },
  {
   "cell_type": "code",
   "execution_count": 5,
   "metadata": {},
   "outputs": [],
   "source": [
    "# train, test = train_test_split(spectras, test_size=0.2)\n",
    "# train, val = train_test_split(train, test_size=0.2)"
   ]
  },
  {
   "cell_type": "code",
   "execution_count": 134,
   "metadata": {},
   "outputs": [],
   "source": [
    "X_train, X_test, y_train, y_test = train_test_split(spectras.iloc[:,0:2550],spectras['type'], test_size=0.2, random_state=0)"
   ]
  },
  {
   "cell_type": "code",
   "execution_count": 135,
   "metadata": {},
   "outputs": [],
   "source": [
    "X_train, X_val, y_train, y_val = train_test_split(X_train.iloc[:,0:2550],y_train, test_size=0.2, random_state=0)"
   ]
  },
  {
   "cell_type": "code",
   "execution_count": 136,
   "metadata": {},
   "outputs": [],
   "source": [
    "X_train = X_train.values\n",
    "X_test = X_test.values\n",
    "y_train = y_train.values\n",
    "y_test = y_test.values"
   ]
  },
  {
   "cell_type": "code",
   "execution_count": 137,
   "metadata": {},
   "outputs": [],
   "source": [
    "X_val = X_val.values\n",
    "y_val = y_val.values"
   ]
  },
  {
   "cell_type": "code",
   "execution_count": 138,
   "metadata": {},
   "outputs": [
    {
     "data": {
      "text/plain": [
       "((2560, 2550), (2560,))"
      ]
     },
     "execution_count": 138,
     "metadata": {},
     "output_type": "execute_result"
    }
   ],
   "source": [
    "X_train.shape, y_train.shape"
   ]
  },
  {
   "cell_type": "code",
   "execution_count": 148,
   "metadata": {},
   "outputs": [],
   "source": [
    "y_train=to_categorical(y_train)\n",
    "y_val=to_categorical(y_val)"
   ]
  },
  {
   "cell_type": "code",
   "execution_count": 149,
   "metadata": {},
   "outputs": [
    {
     "data": {
      "text/plain": [
       "(2560, 2)"
      ]
     },
     "execution_count": 149,
     "metadata": {},
     "output_type": "execute_result"
    }
   ],
   "source": [
    "y_train.shape"
   ]
  },
  {
   "cell_type": "code",
   "execution_count": 150,
   "metadata": {},
   "outputs": [],
   "source": [
    "X_train= X_train.reshape((-1, 2550, 1)).astype(\"float32\")\n",
    "X_test = X_test.reshape((-1, 2550, 1)).astype(\"float32\")"
   ]
  },
  {
   "cell_type": "code",
   "execution_count": 151,
   "metadata": {},
   "outputs": [],
   "source": [
    "X_val = X_val.reshape((-1, 2550, 1)).astype(\"float32\")"
   ]
  },
  {
   "cell_type": "code",
   "execution_count": 152,
   "metadata": {},
   "outputs": [],
   "source": [
    "model = models.Sequential()\n",
    "model.add(layers.Conv1D(filters=32, kernel_size=5, activation='relu', input_shape=(2550,1)))\n",
    "model.add(layers.MaxPooling1D(pool_size=2))\n",
    "model.add(layers.Conv1D(filters=32, kernel_size=5, activation='relu'))\n",
    "model.add(layers.MaxPooling1D(pool_size=2))\n",
    "model.add(layers.Flatten())\n",
    "model.add(layers.Dense(16, activation='relu'))\n",
    "model.add(layers.Dense(2, activation='softmax'))"
   ]
  },
  {
   "cell_type": "code",
   "execution_count": 153,
   "metadata": {},
   "outputs": [
    {
     "data": {
      "text/plain": [
       "[<tensorflow.python.keras.layers.convolutional.Conv1D at 0x7f8b4830c2b0>,\n",
       " <tensorflow.python.keras.layers.pooling.MaxPooling1D at 0x7f8b4830c3c8>,\n",
       " <tensorflow.python.keras.layers.convolutional.Conv1D at 0x7f8b4830c7f0>,\n",
       " <tensorflow.python.keras.layers.pooling.MaxPooling1D at 0x7f8b48300eb8>,\n",
       " <tensorflow.python.keras.layers.core.Flatten at 0x7f8b48313748>,\n",
       " <tensorflow.python.keras.layers.core.Dense at 0x7f8b48300e80>,\n",
       " <tensorflow.python.keras.layers.core.Dense at 0x7f8b506a05c0>]"
      ]
     },
     "execution_count": 153,
     "metadata": {},
     "output_type": "execute_result"
    }
   ],
   "source": [
    "model.layers"
   ]
  },
  {
   "cell_type": "code",
   "execution_count": 154,
   "metadata": {},
   "outputs": [
    {
     "name": "stdout",
     "output_type": "stream",
     "text": [
      "Model: \"sequential_8\"\n",
      "_________________________________________________________________\n",
      "Layer (type)                 Output Shape              Param #   \n",
      "=================================================================\n",
      "conv1d_16 (Conv1D)           (None, 2546, 32)          192       \n",
      "_________________________________________________________________\n",
      "max_pooling1d_16 (MaxPooling (None, 1273, 32)          0         \n",
      "_________________________________________________________________\n",
      "conv1d_17 (Conv1D)           (None, 1269, 32)          5152      \n",
      "_________________________________________________________________\n",
      "max_pooling1d_17 (MaxPooling (None, 634, 32)           0         \n",
      "_________________________________________________________________\n",
      "flatten_8 (Flatten)          (None, 20288)             0         \n",
      "_________________________________________________________________\n",
      "dense_16 (Dense)             (None, 16)                324624    \n",
      "_________________________________________________________________\n",
      "dense_17 (Dense)             (None, 2)                 34        \n",
      "=================================================================\n",
      "Total params: 330,002\n",
      "Trainable params: 330,002\n",
      "Non-trainable params: 0\n",
      "_________________________________________________________________\n"
     ]
    }
   ],
   "source": [
    "model.summary()"
   ]
  },
  {
   "cell_type": "code",
   "execution_count": 155,
   "metadata": {},
   "outputs": [],
   "source": [
    "model.compile(loss='binary_crossentropy', optimizer='rmsprop', metrics=['accuracy'])"
   ]
  },
  {
   "cell_type": "code",
   "execution_count": 156,
   "metadata": {},
   "outputs": [
    {
     "name": "stdout",
     "output_type": "stream",
     "text": [
      "Train on 2560 samples, validate on 640 samples\n",
      "Epoch 1/10\n",
      "2560/2560 [==============================] - 2s 732us/sample - loss: 0.3623 - accuracy: 0.8699 - val_loss: 0.2426 - val_accuracy: 0.9250\n",
      "Epoch 2/10\n",
      "2560/2560 [==============================] - 1s 473us/sample - loss: 0.2184 - accuracy: 0.9395 - val_loss: 0.2520 - val_accuracy: 0.9328\n",
      "Epoch 3/10\n",
      "2560/2560 [==============================] - 1s 467us/sample - loss: 0.1684 - accuracy: 0.9570 - val_loss: 0.2204 - val_accuracy: 0.9344\n",
      "Epoch 4/10\n",
      "2560/2560 [==============================] - 1s 464us/sample - loss: 0.1373 - accuracy: 0.9621 - val_loss: 0.3544 - val_accuracy: 0.9000\n",
      "Epoch 5/10\n",
      "2560/2560 [==============================] - 1s 480us/sample - loss: 0.1093 - accuracy: 0.9734 - val_loss: 0.2581 - val_accuracy: 0.9359\n",
      "Epoch 6/10\n",
      "2560/2560 [==============================] - 1s 492us/sample - loss: 0.1002 - accuracy: 0.9758 - val_loss: 0.2983 - val_accuracy: 0.9359\n",
      "Epoch 7/10\n",
      "2560/2560 [==============================] - 1s 484us/sample - loss: 0.0860 - accuracy: 0.9809 - val_loss: 0.3514 - val_accuracy: 0.9250\n",
      "Epoch 8/10\n",
      "2560/2560 [==============================] - 1s 483us/sample - loss: 0.0690 - accuracy: 0.9812 - val_loss: 0.3000 - val_accuracy: 0.9359\n",
      "Epoch 9/10\n",
      "2560/2560 [==============================] - 1s 477us/sample - loss: 0.0639 - accuracy: 0.9840 - val_loss: 0.4772 - val_accuracy: 0.9141\n",
      "Epoch 10/10\n",
      "2560/2560 [==============================] - 1s 474us/sample - loss: 0.0483 - accuracy: 0.9895 - val_loss: 0.3928 - val_accuracy: 0.9281\n"
     ]
    }
   ],
   "source": [
    "history=model.fit(X_train,y_train,epochs=10,batch_size=32, validation_data=(X_val,y_val))"
   ]
  },
  {
   "cell_type": "code",
   "execution_count": 30,
   "metadata": {},
   "outputs": [
    {
     "name": "stdout",
     "output_type": "stream",
     "text": [
      "Train on 2560 samples, validate on 640 samples\n",
      "Epoch 1/20\n",
      "2560/2560 [==============================] - 2s 845us/sample - loss: 0.5918 - accuracy: 0.7621 - val_loss: 0.3076 - val_accuracy: 0.9219\n",
      "Epoch 2/20\n",
      "2560/2560 [==============================] - 1s 431us/sample - loss: 0.2895 - accuracy: 0.9023 - val_loss: 0.2532 - val_accuracy: 0.9250\n",
      "Epoch 3/20\n",
      "2560/2560 [==============================] - 1s 435us/sample - loss: 0.2366 - accuracy: 0.9164 - val_loss: 0.2121 - val_accuracy: 0.9312\n",
      "Epoch 4/20\n",
      "2560/2560 [==============================] - 1s 437us/sample - loss: 0.1995 - accuracy: 0.9312 - val_loss: 0.2778 - val_accuracy: 0.9094\n",
      "Epoch 5/20\n",
      "2560/2560 [==============================] - 1s 431us/sample - loss: 0.1886 - accuracy: 0.9336 - val_loss: 0.2235 - val_accuracy: 0.9344\n",
      "Epoch 6/20\n",
      "2560/2560 [==============================] - 1s 431us/sample - loss: 0.1466 - accuracy: 0.9523 - val_loss: 0.3196 - val_accuracy: 0.8906\n",
      "Epoch 7/20\n",
      "2560/2560 [==============================] - 1s 438us/sample - loss: 0.1381 - accuracy: 0.9582 - val_loss: 0.2780 - val_accuracy: 0.9172\n",
      "Epoch 8/20\n",
      "2560/2560 [==============================] - 1s 434us/sample - loss: 0.1231 - accuracy: 0.9582 - val_loss: 0.2912 - val_accuracy: 0.9000\n"
     ]
    }
   ],
   "source": [
    "history=model.fit(X_train,y_train,epochs=20,batch_size=32, validation_data=(X_val,y_val),callbacks=[\n",
    "        callbacks.EarlyStopping(monitor=\"val_loss\", patience=5, mode=\"min\")\n",
    "    ])"
   ]
  },
  {
   "cell_type": "code",
   "execution_count": 46,
   "metadata": {},
   "outputs": [
    {
     "data": {
      "image/png": "[encoded data removed]",
      "text/plain": [
       "<Figure size 432x288 with 1 Axes>"
      ]
     },
     "metadata": {
      "needs_background": "light"
     },
     "output_type": "display_data"
    },
    {
     "name": "stdout",
     "output_type": "stream",
     "text": [
      "800/800 - 0s - loss: 0.4506 - accuracy: 0.9262\n"
     ]
    }
   ],
   "source": [
    "plt.plot(history.history['accuracy'], label='accuracy')\n",
    "plt.plot(history.history['val_accuracy'], label = 'val_accuracy')\n",
    "plt.xlabel('Epoch')\n",
    "plt.ylabel('Accuracy')\n",
    "plt.ylim([0.5, 1])\n",
    "plt.legend(loc='lower right')\n",
    "plt.show()\n",
    "\n",
    "test_loss, test_acc = model.evaluate(X_test,y_test, verbose=2)"
   ]
  },
  {
   "cell_type": "code",
   "execution_count": 49,
   "metadata": {},
   "outputs": [
    {
     "name": "stdout",
     "output_type": "stream",
     "text": [
      "0.92625\n"
     ]
    }
   ],
   "source": [
    "print(test_acc)"
   ]
  },
  {
   "cell_type": "code",
   "execution_count": 50,
   "metadata": {},
   "outputs": [],
   "source": [
    "predictions = model.predict(X_test)"
   ]
  },
  {
   "cell_type": "code",
   "execution_count": 51,
   "metadata": {},
   "outputs": [
    {
     "data": {
      "text/plain": [
       "array([[9.9657696e-01, 3.4230000e-03],\n",
       "       [1.2145663e-12, 1.0000000e+00],\n",
       "       [7.5070602e-05, 9.9992490e-01],\n",
       "       ...,\n",
       "       [4.6137668e-02, 9.5386237e-01],\n",
       "       [5.4975968e-05, 9.9994504e-01],\n",
       "       [1.1919570e-03, 9.9880803e-01]], dtype=float32)"
      ]
     },
     "execution_count": 51,
     "metadata": {},
     "output_type": "execute_result"
    }
   ],
   "source": [
    "predictions"
   ]
  },
  {
   "cell_type": "code",
   "execution_count": 56,
   "metadata": {},
   "outputs": [],
   "source": [
    "y_pred = model.predict_classes(X_test)"
   ]
  },
  {
   "cell_type": "code",
   "execution_count": 57,
   "metadata": {},
   "outputs": [
    {
     "data": {
      "text/plain": [
       "array([0, 1, 1, 1, 1, 0, 0, 0, 1, 1, 0, 0, 0, 0, 0, 1, 0, 1, 1, 1, 0, 1,\n",
       "       0, 0, 0, 1, 0, 0, 0, 0, 0, 0, 1, 1, 1, 0, 1, 1, 0, 1, 1, 1, 0, 1,\n",
       "       0, 1, 0, 1, 1, 0, 1, 1, 1, 1, 1, 0, 1, 1, 0, 0, 0, 0, 0, 1, 1, 0,\n",
       "       1, 0, 0, 1, 1, 0, 0, 0, 1, 1, 1, 0, 0, 1, 1, 1, 1, 0, 1, 1, 0, 1,\n",
       "       1, 0, 1, 0, 0, 1, 1, 1, 0, 0, 0, 1, 0, 0, 0, 0, 1, 0, 0, 1, 1, 1,\n",
       "       0, 0, 1, 1, 1, 1, 1, 1, 1, 0, 1, 1, 0, 0, 1, 0, 1, 0, 0, 0, 0, 1,\n",
       "       1, 0, 0, 1, 0, 1, 0, 1, 1, 0, 1, 1, 1, 0, 0, 1, 1, 1, 1, 1, 1, 0,\n",
       "       0, 1, 1, 1, 1, 0, 1, 0, 1, 1, 0, 0, 1, 0, 0, 1, 0, 1, 1, 1, 0, 0,\n",
       "       0, 0, 1, 0, 1, 1, 0, 1, 1, 0, 1, 0, 1, 1, 1, 1, 1, 0, 0, 1, 1, 1,\n",
       "       1, 0, 1, 0, 1, 0, 1, 0, 0, 1, 0, 0, 1, 1, 1, 1, 1, 1, 0, 0, 0, 0,\n",
       "       0, 0, 0, 0, 0, 0, 1, 0, 1, 0, 1, 0, 0, 1, 0, 0, 1, 1, 1, 1, 0, 1,\n",
       "       1, 1, 0, 0, 0, 1, 1, 0, 1, 0, 1, 1, 0, 0, 1, 1, 0, 0, 1, 1, 1, 0,\n",
       "       0, 1, 1, 0, 0, 0, 1, 0, 1, 1, 1, 1, 1, 0, 0, 1, 0, 0, 1, 0, 1, 0,\n",
       "       1, 1, 1, 1, 0, 0, 1, 1, 0, 0, 0, 1, 1, 1, 1, 0, 0, 0, 1, 0, 0, 1,\n",
       "       1, 0, 1, 0, 0, 0, 1, 0, 0, 1, 1, 1, 1, 0, 1, 1, 1, 1, 1, 1, 0, 1,\n",
       "       1, 1, 0, 0, 1, 0, 1, 0, 0, 0, 1, 0, 0, 1, 0, 0, 0, 1, 1, 0, 1, 0,\n",
       "       1, 1, 1, 0, 1, 1, 0, 0, 0, 0, 1, 1, 0, 0, 1, 0, 1, 0, 0, 1, 0, 0,\n",
       "       0, 0, 1, 1, 0, 1, 1, 1, 0, 1, 1, 1, 0, 1, 1, 1, 1, 0, 0, 0, 1, 1,\n",
       "       0, 0, 0, 1, 0, 1, 0, 1, 0, 0, 0, 1, 1, 1, 0, 0, 0, 1, 0, 1, 1, 1,\n",
       "       0, 1, 1, 1, 0, 1, 0, 1, 1, 1, 0, 1, 0, 0, 1, 1, 0, 0, 1, 1, 1, 0,\n",
       "       0, 0, 0, 1, 1, 1, 1, 1, 0, 1, 0, 0, 1, 1, 1, 0, 0, 0, 1, 1, 1, 1,\n",
       "       0, 1, 0, 0, 1, 1, 0, 1, 0, 0, 1, 0, 1, 0, 1, 1, 1, 0, 0, 1, 0, 0,\n",
       "       1, 0, 1, 1, 0, 0, 1, 0, 1, 1, 1, 0, 1, 0, 1, 0, 0, 1, 0, 0, 1, 0,\n",
       "       0, 0, 0, 1, 1, 0, 0, 1, 1, 0, 1, 0, 1, 0, 0, 0, 0, 0, 0, 1, 0, 1,\n",
       "       1, 0, 0, 1, 0, 1, 0, 0, 0, 0, 1, 1, 0, 1, 0, 1, 1, 1, 1, 0, 1, 1,\n",
       "       1, 0, 0, 1, 1, 1, 1, 0, 1, 1, 0, 1, 1, 0, 0, 0, 1, 1, 1, 1, 1, 0,\n",
       "       0, 1, 0, 0, 1, 0, 0, 1, 1, 1, 0, 1, 1, 0, 0, 1, 0, 1, 0, 0, 1, 1,\n",
       "       0, 1, 1, 1, 1, 1, 0, 1, 1, 0, 1, 1, 1, 1, 0, 1, 1, 1, 0, 1, 1, 0,\n",
       "       1, 0, 0, 0, 1, 1, 1, 0, 0, 1, 0, 1, 1, 0, 0, 0, 1, 0, 1, 0, 1, 0,\n",
       "       0, 1, 0, 1, 1, 0, 0, 0, 0, 0, 1, 0, 1, 1, 1, 0, 1, 1, 1, 0, 0, 1,\n",
       "       1, 1, 0, 0, 0, 1, 1, 1, 0, 1, 0, 0, 0, 0, 0, 1, 0, 0, 0, 1, 1, 1,\n",
       "       1, 1, 0, 1, 1, 0, 1, 0, 0, 1, 1, 1, 0, 1, 1, 1, 0, 0, 1, 0, 0, 0,\n",
       "       0, 0, 0, 1, 0, 0, 1, 1, 0, 1, 1, 1, 1, 1, 1, 0, 1, 1, 1, 1, 0, 1,\n",
       "       1, 1, 1, 0, 1, 0, 1, 1, 0, 0, 1, 0, 0, 1, 1, 0, 1, 1, 1, 1, 1, 1,\n",
       "       1, 0, 1, 1, 1, 1, 1, 1, 1, 0, 1, 1, 0, 1, 0, 0, 1, 0, 1, 0, 0, 1,\n",
       "       1, 0, 1, 0, 0, 0, 1, 1, 0, 0, 1, 1, 1, 0, 0, 1, 0, 1, 1, 0, 0, 1,\n",
       "       1, 1, 0, 1, 0, 1, 1, 1])"
      ]
     },
     "execution_count": 57,
     "metadata": {},
     "output_type": "execute_result"
    }
   ],
   "source": [
    "y_pred"
   ]
  },
  {
   "cell_type": "code",
   "execution_count": 38,
   "metadata": {},
   "outputs": [],
   "source": [
    "model.save('cnn_model.h5')"
   ]
  },
  {
   "cell_type": "code",
   "execution_count": 39,
   "metadata": {},
   "outputs": [],
   "source": [
    "model = tf.keras.models.load_model('cnn_model.h5')"
   ]
  },
  {
   "cell_type": "code",
   "execution_count": 40,
   "metadata": {},
   "outputs": [
    {
     "name": "stdout",
     "output_type": "stream",
     "text": [
      "Model: \"sequential_2\"\n",
      "_________________________________________________________________\n",
      "Layer (type)                 Output Shape              Param #   \n",
      "=================================================================\n",
      "conv1d_4 (Conv1D)            (None, 2546, 32)          192       \n",
      "_________________________________________________________________\n",
      "max_pooling1d_4 (MaxPooling1 (None, 1273, 32)          0         \n",
      "_________________________________________________________________\n",
      "conv1d_5 (Conv1D)            (None, 1269, 32)          5152      \n",
      "_________________________________________________________________\n",
      "max_pooling1d_5 (MaxPooling1 (None, 634, 32)           0         \n",
      "_________________________________________________________________\n",
      "flatten_2 (Flatten)          (None, 20288)             0         \n",
      "_________________________________________________________________\n",
      "dense_4 (Dense)              (None, 16)                324624    \n",
      "_________________________________________________________________\n",
      "dense_5 (Dense)              (None, 2)                 34        \n",
      "=================================================================\n",
      "Total params: 330,002\n",
      "Trainable params: 330,002\n",
      "Non-trainable params: 0\n",
      "_________________________________________________________________\n"
     ]
    }
   ],
   "source": [
    "model.summary()"
   ]
  },
  {
   "cell_type": "code",
   "execution_count": 60,
   "metadata": {},
   "outputs": [
    {
     "data": {
      "text/plain": [
       "0.947717731829574"
      ]
     },
     "execution_count": 60,
     "metadata": {},
     "output_type": "execute_result"
    }
   ],
   "source": [
    "metrics.roc_auc_score(y_test,predictions)"
   ]
  },
  {
   "cell_type": "code",
   "execution_count": null,
   "metadata": {},
   "outputs": [],
   "source": []
  }
 ],
 "metadata": {
  "kernelspec": {
   "display_name": "Python 3",
   "language": "python",
   "name": "python3"
  },
  "language_info": {
   "codemirror_mode": {
    "name": "ipython",
    "version": 3
   },
   "file_extension": ".py",
   "mimetype": "text/x-python",
   "name": "python",
   "nbconvert_exporter": "python",
   "pygments_lexer": "ipython3",
   "version": "3.9.0"
  }
 },
 "nbformat": 4,
 "nbformat_minor": 4
}
