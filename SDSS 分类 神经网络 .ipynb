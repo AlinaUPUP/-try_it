{
 "cells": [
  {
   "cell_type": "markdown",
   "metadata": {},
   "source": [
    "# 神经网络分类 SDSS"
   ]
  },
  {
   "cell_type": "code",
   "execution_count": 1,
   "metadata": {},
   "outputs": [],
   "source": [
    "import pandas as pd\n",
    "import numpy as np\n",
    "import matplotlib.pyplot as plt\n",
    "from sklearn.preprocessing import StandardScaler, LabelEncoder\n",
    "from sklearn.decomposition import PCA\n",
    "from sklearn.metrics import confusion_matrix\n",
    "from keras.models import Sequential\n",
    "from keras.layers import Dense, Dropout\n",
    "from keras.metrics import categorical_crossentropy, categorical_accuracy\n",
    "from keras.utils import np_utils\n",
    "import seaborn as sns\n",
    "\n",
    "import pydot_ng as pydot"
   ]
  },
  {
   "cell_type": "markdown",
   "metadata": {},
   "source": [
    "## 读入数据"
   ]
  },
  {
   "cell_type": "code",
   "execution_count": 2,
   "metadata": {},
   "outputs": [
    {
     "data": {
      "text/plain": [
       "(100000, 18)"
      ]
     },
     "execution_count": 2,
     "metadata": {},
     "output_type": "execute_result"
    }
   ],
   "source": [
    "filename = 'Skyserver_12_30_2019 4_49_58 PM.csv'\n",
    "sdss_df = pd.read_csv(filename, encoding='utf-8')\n",
    "sdss_df = sdss_df.sample(frac=1)  # Pandas sample()用于从DataFrame中随机选择行和列\n",
    "sdss_df.shape"
   ]
  },
  {
   "cell_type": "markdown",
   "metadata": {},
   "source": [
    "## 删除不重要的列"
   ]
  },
  {
   "cell_type": "code",
   "execution_count": 3,
   "metadata": {},
   "outputs": [],
   "source": [
    "sdss_df = sdss_df.drop(['objid', 'specobjid', 'run', 'rerun', 'camcol', 'field'], axis=1)"
   ]
  },
  {
   "cell_type": "markdown",
   "metadata": {},
   "source": [
    "## 划分数据集\n",
    "\n",
    "训练占60％，验证占20％，测试占20％"
   ]
  },
  {
   "cell_type": "code",
   "execution_count": 4,
   "metadata": {},
   "outputs": [],
   "source": [
    "train_count = 60000\n",
    "val_count = 20000\n",
    "test_count = 20000\n",
    "\n",
    "train_df = sdss_df.iloc[:train_count]   # 训练集\n",
    "validation_df = sdss_df.iloc[train_count:train_count+val_count]  # 验证集\n",
    "test_df = sdss_df.iloc[-test_count:]  # 测试集\n"
   ]
  },
  {
   "cell_type": "markdown",
   "metadata": {},
   "source": [
    "## 删除标签"
   ]
  },
  {
   "cell_type": "code",
   "execution_count": 5,
   "metadata": {},
   "outputs": [],
   "source": [
    "X_train = train_df.drop(['class'], axis=1)\n",
    "X_validation = validation_df.drop(['class'], axis=1)\n",
    "X_test = test_df.drop(['class'], axis=1)"
   ]
  },
  {
   "cell_type": "markdown",
   "metadata": {},
   "source": [
    "## 对标签 进行硬编码 后\n",
    "## 对标签 one-hot 编码\n",
    "\n",
    "from sklearn.preprocessing import LabelEncoder \n",
    "\n",
    "keras.utils.to_categorical(y, num_classes=None, dtype='float32)\n",
    "\n",
    "将整型的类别标签转为onehot编码。y为int数组，num_classes为标签类别总数，大于max(y)（标签从0开始的）"
   ]
  },
  {
   "cell_type": "code",
   "execution_count": 6,
   "metadata": {},
   "outputs": [],
   "source": [
    "le = LabelEncoder()  # 使用LabelEncoder对特征进行硬编码  \n",
    "le.fit(sdss_df['class'])   # 即将离散型的种类数据转换成 0 到 n−1 之间的数  通过fit函数传入需要编码的数据，在内部生成对应的key-value\n",
    "encoded_Y = le.transform(sdss_df['class'])  # 用于需要转化的数据，用transform函数\n",
    "onehot_labels = np_utils.to_categorical(encoded_Y)  # keras.utils.to_categorical 将类别标签转为onehot编码\n",
    "\n",
    "y_train = onehot_labels[:train_count]\n",
    "y_validation = onehot_labels[train_count:train_count+val_count]\n",
    "y_test = onehot_labels[-test_count:]"
   ]
  },
  {
   "cell_type": "code",
   "execution_count": 7,
   "metadata": {},
   "outputs": [
    {
     "data": {
      "text/plain": [
       "array([0, 0, 1, ..., 0, 1, 0])"
      ]
     },
     "execution_count": 7,
     "metadata": {},
     "output_type": "execute_result"
    }
   ],
   "source": [
    "encoded_Y"
   ]
  },
  {
   "cell_type": "code",
   "execution_count": 8,
   "metadata": {},
   "outputs": [
    {
     "data": {
      "text/plain": [
       "array([[1., 0., 0.],\n",
       "       [1., 0., 0.],\n",
       "       [0., 1., 0.],\n",
       "       ...,\n",
       "       [1., 0., 0.],\n",
       "       [0., 1., 0.],\n",
       "       [1., 0., 0.]], dtype=float32)"
      ]
     },
     "execution_count": 8,
     "metadata": {},
     "output_type": "execute_result"
    }
   ],
   "source": [
    "onehot_labels"
   ]
  },
  {
   "cell_type": "code",
   "execution_count": 9,
   "metadata": {},
   "outputs": [
    {
     "data": {
      "text/plain": [
       "100000"
      ]
     },
     "execution_count": 9,
     "metadata": {},
     "output_type": "execute_result"
    }
   ],
   "source": [
    "len(encoded_Y)"
   ]
  },
  {
   "cell_type": "code",
   "execution_count": 10,
   "metadata": {},
   "outputs": [
    {
     "data": {
      "text/plain": [
       "(100000, 3)"
      ]
     },
     "execution_count": 10,
     "metadata": {},
     "output_type": "execute_result"
    }
   ],
   "source": [
    "onehot_labels.shape"
   ]
  },
  {
   "cell_type": "code",
   "execution_count": 11,
   "metadata": {},
   "outputs": [
    {
     "data": {
      "text/plain": [
       "array([[1., 0., 0.],\n",
       "       [1., 0., 0.],\n",
       "       [1., 0., 0.],\n",
       "       ...,\n",
       "       [1., 0., 0.],\n",
       "       [0., 1., 0.],\n",
       "       [1., 0., 0.]], dtype=float32)"
      ]
     },
     "execution_count": 11,
     "metadata": {},
     "output_type": "execute_result"
    }
   ],
   "source": [
    "y_test"
   ]
  },
  {
   "cell_type": "markdown",
   "metadata": {},
   "source": [
    "## 数据缩放  标准化\n",
    "\n",
    "from sklearn.preprocessing import StandardScaler  \n",
    "\n",
    "StandardScaler类是一个用来讲数据进行归一化和标准化的类。标准化数据，保证每个维度的特征数据方差为1，均值为0，使得预测结果不会被某些维度过大的特征值而主导  \n",
    "\n",
    "样本x的标准分数计算如下：z = (x - u) / s\n",
    "\n",
    "标准化数据通过减去均值然后除以方差（或标准差），这种数据标准化方法经过处理后数据符合标准正态分布，即均值为0，标准差为1。\n",
    "\n",
    "适用于：如果数据的分布本身就服从正态分布，就可以用这个方法。"
   ]
  },
  {
   "cell_type": "code",
   "execution_count": 12,
   "metadata": {},
   "outputs": [],
   "source": [
    "scaler = StandardScaler()\n",
    "scaler.fit(X_train) # fit scaler to training data only   fit()就是计算标准化所用到的均值与方差\n",
    "\n",
    "X_train = pd.DataFrame(scaler.transform(X_train), columns=X_train.columns)  # 利用fit（）的结果作为参数对数据进行相应的处理\n",
    "X_validation = pd.DataFrame(scaler.transform(X_validation), columns=X_validation.columns)\n",
    "X_test = pd.DataFrame(scaler.transform(X_test), columns=X_validation.columns)"
   ]
  },
  {
   "cell_type": "markdown",
   "metadata": {},
   "source": [
    "## 将PCA主成分分析应用于波长强度"
   ]
  },
  {
   "cell_type": "code",
   "execution_count": 13,
   "metadata": {},
   "outputs": [],
   "source": [
    "pca = PCA(n_components=3)\n",
    "dfs = [X_train, X_validation, X_test]\n",
    "\n",
    "for i in range(len(dfs)):\n",
    "    df = dfs[i]\n",
    "    ugriz = pca.fit_transform(df[['u', 'g', 'r', 'i', 'z']])\n",
    "    df = pd.concat((df, pd.DataFrame(ugriz)), axis=1)\n",
    "    df.rename({0: 'PCA1', 1: 'PCA2', 2: 'PCA3'}, axis=1, inplace=True)\n",
    "    df.drop(['u', 'g', 'r', 'i', 'z'], axis=1, inplace=True)\n",
    "    dfs[i] = df\n",
    "    \n",
    "X_train, X_validation, X_test = dfs"
   ]
  },
  {
   "cell_type": "code",
   "execution_count": 14,
   "metadata": {},
   "outputs": [
    {
     "data": {
      "text/html": [
       "<div>\n",
       "<style scoped>\n",
       "    .dataframe tbody tr th:only-of-type {\n",
       "        vertical-align: middle;\n",
       "    }\n",
       "\n",
       "    .dataframe tbody tr th {\n",
       "        vertical-align: top;\n",
       "    }\n",
       "\n",
       "    .dataframe thead th {\n",
       "        text-align: right;\n",
       "    }\n",
       "</style>\n",
       "<table border=\"1\" class=\"dataframe\">\n",
       "  <thead>\n",
       "    <tr style=\"text-align: right;\">\n",
       "      <th></th>\n",
       "      <th>ra</th>\n",
       "      <th>dec</th>\n",
       "      <th>redshift</th>\n",
       "      <th>plate</th>\n",
       "      <th>mjd</th>\n",
       "      <th>fiberid</th>\n",
       "      <th>PCA1</th>\n",
       "      <th>PCA2</th>\n",
       "      <th>PCA3</th>\n",
       "    </tr>\n",
       "  </thead>\n",
       "  <tbody>\n",
       "    <tr>\n",
       "      <th>0</th>\n",
       "      <td>0.871309</td>\n",
       "      <td>-0.322317</td>\n",
       "      <td>-0.199325</td>\n",
       "      <td>0.171304</td>\n",
       "      <td>0.435518</td>\n",
       "      <td>-0.703581</td>\n",
       "      <td>-0.645468</td>\n",
       "      <td>-0.380347</td>\n",
       "      <td>-0.062678</td>\n",
       "    </tr>\n",
       "    <tr>\n",
       "      <th>1</th>\n",
       "      <td>0.430744</td>\n",
       "      <td>-0.169549</td>\n",
       "      <td>-0.288101</td>\n",
       "      <td>0.087616</td>\n",
       "      <td>0.396871</td>\n",
       "      <td>-1.439943</td>\n",
       "      <td>2.910053</td>\n",
       "      <td>0.968065</td>\n",
       "      <td>-0.239243</td>\n",
       "    </tr>\n",
       "    <tr>\n",
       "      <th>2</th>\n",
       "      <td>-0.199923</td>\n",
       "      <td>0.151372</td>\n",
       "      <td>2.651376</td>\n",
       "      <td>3.545838</td>\n",
       "      <td>2.716369</td>\n",
       "      <td>2.421355</td>\n",
       "      <td>-3.429198</td>\n",
       "      <td>0.620366</td>\n",
       "      <td>-0.021833</td>\n",
       "    </tr>\n",
       "    <tr>\n",
       "      <th>3</th>\n",
       "      <td>0.462253</td>\n",
       "      <td>0.704976</td>\n",
       "      <td>-0.173973</td>\n",
       "      <td>-0.544097</td>\n",
       "      <td>-0.533891</td>\n",
       "      <td>0.175451</td>\n",
       "      <td>-0.114218</td>\n",
       "      <td>-0.631304</td>\n",
       "      <td>0.107824</td>\n",
       "    </tr>\n",
       "    <tr>\n",
       "      <th>4</th>\n",
       "      <td>0.956304</td>\n",
       "      <td>0.232285</td>\n",
       "      <td>-0.393599</td>\n",
       "      <td>-0.561195</td>\n",
       "      <td>-0.721332</td>\n",
       "      <td>-0.832445</td>\n",
       "      <td>-1.630879</td>\n",
       "      <td>0.527283</td>\n",
       "      <td>0.297679</td>\n",
       "    </tr>\n",
       "  </tbody>\n",
       "</table>\n",
       "</div>"
      ],
      "text/plain": [
       "         ra       dec  redshift     plate       mjd   fiberid      PCA1  \\\n",
       "0  0.871309 -0.322317 -0.199325  0.171304  0.435518 -0.703581 -0.645468   \n",
       "1  0.430744 -0.169549 -0.288101  0.087616  0.396871 -1.439943  2.910053   \n",
       "2 -0.199923  0.151372  2.651376  3.545838  2.716369  2.421355 -3.429198   \n",
       "3  0.462253  0.704976 -0.173973 -0.544097 -0.533891  0.175451 -0.114218   \n",
       "4  0.956304  0.232285 -0.393599 -0.561195 -0.721332 -0.832445 -1.630879   \n",
       "\n",
       "       PCA2      PCA3  \n",
       "0 -0.380347 -0.062678  \n",
       "1  0.968065 -0.239243  \n",
       "2  0.620366 -0.021833  \n",
       "3 -0.631304  0.107824  \n",
       "4  0.527283  0.297679  "
      ]
     },
     "execution_count": 14,
     "metadata": {},
     "output_type": "execute_result"
    }
   ],
   "source": [
    "X_train.head()"
   ]
  },
  {
   "cell_type": "markdown",
   "metadata": {},
   "source": [
    "## 搭建深度神经网络模型\n",
    "\n",
    "Keras--序贯模型（sequential）\n",
    "\n",
    "单输入单输出，一条路通到底，层与层之间只有相邻关系，没有跨层连接。这种模型编译速度快，操作也比较简单\n",
    "\n",
    "https://blog.csdn.net/zjw642337320/article/details/81204560\n",
    "\n",
    "https://blog.csdn.net/rosefun96/article/details/110005568\n",
    "\n",
    "keras.layers.Dense方法 Keras定义网络层的基本方法\n",
    "\n",
    "https://blog.csdn.net/weixin_42499236/article/details/84624195"
   ]
  },
  {
   "cell_type": "code",
   "execution_count": 33,
   "metadata": {},
   "outputs": [],
   "source": [
    "num_features = X_train.shape[1]\n",
    "'''\n",
    "    第一步：选择模型\n",
    "'''\n",
    "dnn = Sequential()  # 选择模型\n",
    "\n",
    "'''\n",
    "   第二步：构建网络层\n",
    "'''\n",
    "dnn.add(Dense(9, input_dim=num_features, activation='relu'))  #   input_dim输入层，9 ,输出层，9   # 激活函数是relu\n",
    "dnn.add(Dropout(0.1))  # 采用10%的dropout\n",
    "\n",
    "dnn.add(Dense(9, activation='relu'))  # 该隐藏层节点9个 \n",
    "dnn.add(Dropout(0.1))\n",
    "\n",
    "dnn.add(Dense(9, activation='relu'))   # 该隐藏层节点9个 \n",
    "dnn.add(Dropout(0.05))\n",
    "\n",
    "dnn.add(Dense(6, activation='relu'))   # 该隐藏层节点6个\n",
    "dnn.add(Dropout(0.05))\n",
    "\n",
    "dnn.add(Dense(6, activation='relu'))  # 该隐藏层节点6个\n",
    "\n",
    "dnn.add(Dense(6, activation='relu'))   # 该隐藏层节点6个\n",
    "\n",
    "dnn.add(Dense(3, activation='softmax', name='output'))   # 输出结果是3个类别，所以维度是3，最后一层用softmax作为激活函数\n",
    "\n",
    "'''\n",
    "   第三步：编译\n",
    "'''\n",
    "# optimizer优化函数，设定学习率（lr）等参数  \n",
    "# categorical_accuracy：检查 y_ture 中最大值对应的index 与 y_pred 中最大值对应的index是否相等。\n",
    "# 注意，这里只比较一个值，即最大的那个值的index，这对于【多分类单标签】任务的是合适的，但并不适用于【多标签】任务。\n",
    "# 这里的 y_true 应为一个 one-hot 向量\n",
    "\n",
    "dnn.compile(loss='categorical_crossentropy', optimizer='adam', metrics=['categorical_accuracy'])  # 使用交叉熵作为loss函数\n"
   ]
  },
  {
   "cell_type": "code",
   "execution_count": 34,
   "metadata": {},
   "outputs": [
    {
     "data": {
      "text/plain": [
       "9"
      ]
     },
     "execution_count": 34,
     "metadata": {},
     "output_type": "execute_result"
    }
   ],
   "source": [
    "num_features"
   ]
  },
  {
   "cell_type": "markdown",
   "metadata": {},
   "source": [
    "## 模型可视化\n",
    "\n",
    "pip install pydot\n",
    "pip install graphviz\n",
    "\n",
    "from keras.utils import plot_model，执行plot_model需要graphviz的二进制文件\n",
    "\n",
    "解决方法是在graphviz官网下载界面  http://www.graphviz.org/download/  选择自己操作系统对应的版本的.msi文件\n",
    "\n",
    "安装时选择添加环境变量\n"
   ]
  },
  {
   "cell_type": "code",
   "execution_count": 31,
   "metadata": {},
   "outputs": [
    {
     "data": {
      "image/png": "[encoded data removed]",
      "text/plain": [
       "<Figure size 360x2160 with 1 Axes>"
      ]
     },
     "metadata": {
      "needs_background": "light"
     },
     "output_type": "display_data"
    }
   ],
   "source": [
    "import matplotlib.pyplot as plt\n",
    "import matplotlib.image as mpimg\n",
    "from keras.utils import plot_model\n",
    "#from tensorflow.python.keras.utils import plot_model\n",
    "\n",
    "plot_model(dnn, to_file='model.png', show_shapes=True, show_layer_names=True)\n",
    "img = mpimg.imread('model.png')\n",
    "plt.figure(figsize=(5, 30))\n",
    "plt.imshow(img)\n",
    "plt.axis('off')\n",
    "plt.show()\n"
   ]
  },
  {
   "cell_type": "code",
   "execution_count": 32,
   "metadata": {},
   "outputs": [
    {
     "name": "stdout",
     "output_type": "stream",
     "text": [
      "Model: \"sequential\"\n",
      "_________________________________________________________________\n",
      "Layer (type)                 Output Shape              Param #   \n",
      "=================================================================\n",
      "dense (Dense)                (None, 9)                 90        \n",
      "_________________________________________________________________\n",
      "dropout (Dropout)            (None, 9)                 0         \n",
      "_________________________________________________________________\n",
      "dense_1 (Dense)              (None, 9)                 90        \n",
      "_________________________________________________________________\n",
      "dropout_1 (Dropout)          (None, 9)                 0         \n",
      "_________________________________________________________________\n",
      "dense_2 (Dense)              (None, 9)                 90        \n",
      "_________________________________________________________________\n",
      "dropout_2 (Dropout)          (None, 9)                 0         \n",
      "_________________________________________________________________\n",
      "dense_3 (Dense)              (None, 6)                 60        \n",
      "_________________________________________________________________\n",
      "dropout_3 (Dropout)          (None, 6)                 0         \n",
      "_________________________________________________________________\n",
      "dense_4 (Dense)              (None, 6)                 42        \n",
      "_________________________________________________________________\n",
      "dense_5 (Dense)              (None, 6)                 42        \n",
      "_________________________________________________________________\n",
      "output (Dense)               (None, 3)                 21        \n",
      "=================================================================\n",
      "Total params: 435\n",
      "Trainable params: 435\n",
      "Non-trainable params: 0\n",
      "_________________________________________________________________\n"
     ]
    }
   ],
   "source": [
    "dnn.summary()"
   ]
  },
  {
   "cell_type": "markdown",
   "metadata": {},
   "source": [
    "# 训练"
   ]
  },
  {
   "cell_type": "code",
   "execution_count": 35,
   "metadata": {},
   "outputs": [
    {
     "name": "stdout",
     "output_type": "stream",
     "text": [
      "Epoch 1/50\n",
      "1200/1200 [==============================] - 1s 709us/step - loss: 0.8599 - categorical_accuracy: 0.6829 - val_loss: 0.3666 - val_categorical_accuracy: 0.9086\n",
      "Epoch 2/50\n",
      "1200/1200 [==============================] - 1s 576us/step - loss: 0.3562 - categorical_accuracy: 0.8983 - val_loss: 0.1824 - val_categorical_accuracy: 0.9633\n",
      "Epoch 3/50\n",
      "1200/1200 [==============================] - 1s 572us/step - loss: 0.2134 - categorical_accuracy: 0.9488 - val_loss: 0.1368 - val_categorical_accuracy: 0.9697\n",
      "Epoch 4/50\n",
      "1200/1200 [==============================] - 1s 574us/step - loss: 0.1589 - categorical_accuracy: 0.9615 - val_loss: 0.0958 - val_categorical_accuracy: 0.9765\n",
      "Epoch 5/50\n",
      "1200/1200 [==============================] - 1s 569us/step - loss: 0.1241 - categorical_accuracy: 0.9708 - val_loss: 0.0859 - val_categorical_accuracy: 0.9793\n",
      "Epoch 6/50\n",
      "1200/1200 [==============================] - 1s 569us/step - loss: 0.1086 - categorical_accuracy: 0.9722 - val_loss: 0.0757 - val_categorical_accuracy: 0.9815\n",
      "Epoch 7/50\n",
      "1200/1200 [==============================] - 1s 571us/step - loss: 0.1001 - categorical_accuracy: 0.9744 - val_loss: 0.0685 - val_categorical_accuracy: 0.9830\n",
      "Epoch 8/50\n",
      "1200/1200 [==============================] - 1s 569us/step - loss: 0.0914 - categorical_accuracy: 0.9775 - val_loss: 0.0701 - val_categorical_accuracy: 0.9822\n",
      "Epoch 9/50\n",
      "1200/1200 [==============================] - 1s 578us/step - loss: 0.0927 - categorical_accuracy: 0.9761 - val_loss: 0.0636 - val_categorical_accuracy: 0.9840\n",
      "Epoch 10/50\n",
      "1200/1200 [==============================] - 1s 574us/step - loss: 0.0826 - categorical_accuracy: 0.9798 - val_loss: 0.0646 - val_categorical_accuracy: 0.9847\n",
      "Epoch 11/50\n",
      "1200/1200 [==============================] - 1s 574us/step - loss: 0.0870 - categorical_accuracy: 0.9778 - val_loss: 0.0601 - val_categorical_accuracy: 0.9846\n",
      "Epoch 12/50\n",
      "1200/1200 [==============================] - 1s 652us/step - loss: 0.0847 - categorical_accuracy: 0.9779 - val_loss: 0.0611 - val_categorical_accuracy: 0.9854\n",
      "Epoch 13/50\n",
      "1200/1200 [==============================] - 1s 572us/step - loss: 0.0807 - categorical_accuracy: 0.9798 - val_loss: 0.0639 - val_categorical_accuracy: 0.9839\n",
      "Epoch 14/50\n",
      "1200/1200 [==============================] - 1s 573us/step - loss: 0.0819 - categorical_accuracy: 0.9795 - val_loss: 0.0602 - val_categorical_accuracy: 0.9844\n",
      "Epoch 15/50\n",
      "1200/1200 [==============================] - 1s 575us/step - loss: 0.0791 - categorical_accuracy: 0.9798 - val_loss: 0.0612 - val_categorical_accuracy: 0.9839\n",
      "Epoch 16/50\n",
      "1200/1200 [==============================] - 1s 572us/step - loss: 0.0798 - categorical_accuracy: 0.9802 - val_loss: 0.0626 - val_categorical_accuracy: 0.9836\n",
      "Epoch 17/50\n",
      "1200/1200 [==============================] - 1s 574us/step - loss: 0.0774 - categorical_accuracy: 0.9807 - val_loss: 0.0618 - val_categorical_accuracy: 0.9844\n",
      "Epoch 18/50\n",
      "1200/1200 [==============================] - 1s 570us/step - loss: 0.0758 - categorical_accuracy: 0.9816 - val_loss: 0.0723 - val_categorical_accuracy: 0.9815\n",
      "Epoch 19/50\n",
      "1200/1200 [==============================] - 1s 574us/step - loss: 0.0827 - categorical_accuracy: 0.9794 - val_loss: 0.0562 - val_categorical_accuracy: 0.9865\n",
      "Epoch 20/50\n",
      "1200/1200 [==============================] - 1s 572us/step - loss: 0.0715 - categorical_accuracy: 0.9820 - val_loss: 0.0633 - val_categorical_accuracy: 0.9833\n",
      "Epoch 21/50\n",
      "1200/1200 [==============================] - 1s 572us/step - loss: 0.0761 - categorical_accuracy: 0.9808 - val_loss: 0.0646 - val_categorical_accuracy: 0.9839\n",
      "Epoch 22/50\n",
      "1200/1200 [==============================] - 1s 571us/step - loss: 0.0727 - categorical_accuracy: 0.9827 - val_loss: 0.0570 - val_categorical_accuracy: 0.9859\n",
      "Epoch 23/50\n",
      "1200/1200 [==============================] - 1s 568us/step - loss: 0.0715 - categorical_accuracy: 0.9823 - val_loss: 0.0670 - val_categorical_accuracy: 0.9828\n",
      "Epoch 24/50\n",
      "1200/1200 [==============================] - 1s 570us/step - loss: 0.0726 - categorical_accuracy: 0.9824 - val_loss: 0.0609 - val_categorical_accuracy: 0.9848\n",
      "Epoch 25/50\n",
      "1200/1200 [==============================] - 1s 570us/step - loss: 0.0746 - categorical_accuracy: 0.9821 - val_loss: 0.0581 - val_categorical_accuracy: 0.9857\n",
      "Epoch 26/50\n",
      "1200/1200 [==============================] - 1s 574us/step - loss: 0.0723 - categorical_accuracy: 0.9822 - val_loss: 0.0706 - val_categorical_accuracy: 0.9812\n",
      "Epoch 27/50\n",
      "1200/1200 [==============================] - 1s 571us/step - loss: 0.0748 - categorical_accuracy: 0.9811 - val_loss: 0.0582 - val_categorical_accuracy: 0.9861\n",
      "Epoch 28/50\n",
      "1200/1200 [==============================] - 1s 571us/step - loss: 0.0735 - categorical_accuracy: 0.9817 - val_loss: 0.0603 - val_categorical_accuracy: 0.9844\n",
      "Epoch 29/50\n",
      "1200/1200 [==============================] - 1s 574us/step - loss: 0.0675 - categorical_accuracy: 0.9831 - val_loss: 0.0621 - val_categorical_accuracy: 0.9847\n",
      "Epoch 30/50\n",
      "1200/1200 [==============================] - 1s 566us/step - loss: 0.0725 - categorical_accuracy: 0.9821 - val_loss: 0.0591 - val_categorical_accuracy: 0.9855\n",
      "Epoch 31/50\n",
      "1200/1200 [==============================] - 1s 566us/step - loss: 0.0697 - categorical_accuracy: 0.9824 - val_loss: 0.0585 - val_categorical_accuracy: 0.9850\n",
      "Epoch 32/50\n",
      "1200/1200 [==============================] - 1s 574us/step - loss: 0.0682 - categorical_accuracy: 0.9828 - val_loss: 0.0571 - val_categorical_accuracy: 0.9858\n",
      "Epoch 33/50\n",
      "1200/1200 [==============================] - 1s 571us/step - loss: 0.0703 - categorical_accuracy: 0.9828 - val_loss: 0.0586 - val_categorical_accuracy: 0.9858\n",
      "Epoch 34/50\n",
      "1200/1200 [==============================] - 1s 571us/step - loss: 0.0738 - categorical_accuracy: 0.9797 - val_loss: 0.0577 - val_categorical_accuracy: 0.9857\n",
      "Epoch 35/50\n",
      "1200/1200 [==============================] - 1s 569us/step - loss: 0.0677 - categorical_accuracy: 0.9828 - val_loss: 0.0578 - val_categorical_accuracy: 0.9855\n",
      "Epoch 36/50\n",
      "1200/1200 [==============================] - 1s 572us/step - loss: 0.0666 - categorical_accuracy: 0.9834 - val_loss: 0.0573 - val_categorical_accuracy: 0.9861\n",
      "Epoch 37/50\n",
      "1200/1200 [==============================] - 1s 573us/step - loss: 0.0680 - categorical_accuracy: 0.9835 - val_loss: 0.0627 - val_categorical_accuracy: 0.9845\n",
      "Epoch 38/50\n",
      "1200/1200 [==============================] - 1s 573us/step - loss: 0.0706 - categorical_accuracy: 0.9823 - val_loss: 0.0621 - val_categorical_accuracy: 0.9833\n",
      "Epoch 39/50\n",
      "1200/1200 [==============================] - 1s 580us/step - loss: 0.0699 - categorical_accuracy: 0.9825 - val_loss: 0.0567 - val_categorical_accuracy: 0.9854\n",
      "Epoch 40/50\n",
      "1200/1200 [==============================] - 1s 575us/step - loss: 0.0685 - categorical_accuracy: 0.9835 - val_loss: 0.0560 - val_categorical_accuracy: 0.9865\n",
      "Epoch 41/50\n",
      "1200/1200 [==============================] - 1s 576us/step - loss: 0.0727 - categorical_accuracy: 0.9816 - val_loss: 0.0591 - val_categorical_accuracy: 0.9852\n",
      "Epoch 42/50\n",
      "1200/1200 [==============================] - 1s 582us/step - loss: 0.0688 - categorical_accuracy: 0.9833 - val_loss: 0.0848 - val_categorical_accuracy: 0.9773\n",
      "Epoch 43/50\n",
      "1200/1200 [==============================] - 1s 577us/step - loss: 0.0726 - categorical_accuracy: 0.9810 - val_loss: 0.0561 - val_categorical_accuracy: 0.9860\n",
      "Epoch 44/50\n",
      "1200/1200 [==============================] - 1s 584us/step - loss: 0.0703 - categorical_accuracy: 0.9826 - val_loss: 0.0572 - val_categorical_accuracy: 0.9863\n",
      "Epoch 45/50\n",
      "1200/1200 [==============================] - 1s 583us/step - loss: 0.0685 - categorical_accuracy: 0.9830 - val_loss: 0.0616 - val_categorical_accuracy: 0.9852\n",
      "Epoch 46/50\n",
      "1200/1200 [==============================] - 1s 572us/step - loss: 0.0684 - categorical_accuracy: 0.9831 - val_loss: 0.0623 - val_categorical_accuracy: 0.9842\n",
      "Epoch 47/50\n",
      "1200/1200 [==============================] - 1s 571us/step - loss: 0.0701 - categorical_accuracy: 0.9831 - val_loss: 0.0614 - val_categorical_accuracy: 0.9841\n",
      "Epoch 48/50\n",
      "1200/1200 [==============================] - 1s 572us/step - loss: 0.0698 - categorical_accuracy: 0.9823 - val_loss: 0.0559 - val_categorical_accuracy: 0.9858\n"
     ]
    },
    {
     "name": "stdout",
     "output_type": "stream",
     "text": [
      "Epoch 49/50\n",
      "1200/1200 [==============================] - 1s 576us/step - loss: 0.0670 - categorical_accuracy: 0.9827 - val_loss: 0.0571 - val_categorical_accuracy: 0.9866\n",
      "Epoch 50/50\n",
      "1200/1200 [==============================] - 1s 569us/step - loss: 0.0719 - categorical_accuracy: 0.9815 - val_loss: 0.0553 - val_categorical_accuracy: 0.9868\n"
     ]
    }
   ],
   "source": [
    "'''\n",
    "   第四步：训练\n",
    "   .fit的一些参数\n",
    "   batch_size：对总的样本数进行分组，每组包含的样本数量\n",
    "   epochs ：训练次数\n",
    "   shuffle：是否把数据随机打乱之后再进行训练\n",
    "   validation_split：拿出百分之多少用来做交叉验证\n",
    "   verbose：屏显模式 0：不输出  1：输出进度  2：输出每次的训练结果\n",
    "   validation_data：在训练的每个epoch后验证模型，防止过度拟合  # X_validation 验证集\n",
    "'''\n",
    "\n",
    "my_epochs = 50\n",
    "history = dnn.fit(X_train, y_train, epochs=my_epochs, batch_size=50,validation_data=(X_validation, y_validation))"
   ]
  },
  {
   "cell_type": "markdown",
   "metadata": {},
   "source": [
    "# 评估模型"
   ]
  },
  {
   "cell_type": "markdown",
   "metadata": {},
   "source": [
    "## 绘制训练过程中的损失"
   ]
  },
  {
   "cell_type": "code",
   "execution_count": 36,
   "metadata": {},
   "outputs": [
    {
     "data": {
      "image/png": "[encoded data removed]",
      "text/plain": [
       "<Figure size 432x288 with 1 Axes>"
      ]
     },
     "metadata": {
      "needs_background": "light"
     },
     "output_type": "display_data"
    }
   ],
   "source": [
    "epochs_arr = np.arange(1, my_epochs + 1, 1)\n",
    "my_history = history.history\n",
    "line1 = plt.plot(epochs_arr, my_history['loss'], 'r-', label='training loss')\n",
    "line2 = plt.plot(epochs_arr, my_history['val_loss'], 'b-', label='validation loss')\n",
    "plt.xlabel('Epochs')\n",
    "plt.ylabel('Loss')\n",
    "plt.title('Model loss')\n",
    "plt.legend()\n",
    "plt.show()"
   ]
  },
  {
   "cell_type": "markdown",
   "metadata": {},
   "source": [
    "## 绘制训练时模型的准确性"
   ]
  },
  {
   "cell_type": "code",
   "execution_count": 37,
   "metadata": {},
   "outputs": [
    {
     "data": {
      "image/png": "[encoded data removed]",
      "text/plain": [
       "<Figure size 432x288 with 1 Axes>"
      ]
     },
     "metadata": {
      "needs_background": "light"
     },
     "output_type": "display_data"
    }
   ],
   "source": [
    "line1 = plt.plot(epochs_arr, my_history['categorical_accuracy'], 'r-', label='training accuracy')\n",
    "line2 = plt.plot(epochs_arr, my_history['val_categorical_accuracy'], 'b-', label='validation accuracy')\n",
    "plt.xlabel('Epochs')\n",
    "plt.ylabel('Accuracy')\n",
    "plt.title('Model accuracy')\n",
    "plt.legend()\n",
    "plt.show()"
   ]
  },
  {
   "cell_type": "code",
   "execution_count": 38,
   "metadata": {},
   "outputs": [
    {
     "name": "stdout",
     "output_type": "stream",
     "text": [
      "Deep Neural Network\n",
      "Validation Accuracy: 98.67500\n"
     ]
    }
   ],
   "source": [
    "preds = pd.DataFrame(dnn.predict(X_validation))\n",
    "preds = preds.idxmax(axis=1)\n",
    "y_validation = y_validation.dot([0,1,2])\n",
    "model_acc = (preds == y_validation).sum().astype(float) / len(preds) * 100\n",
    "\n",
    "print('Deep Neural Network')\n",
    "print('Validation Accuracy: %3.5f' % (model_acc))"
   ]
  },
  {
   "cell_type": "markdown",
   "metadata": {},
   "source": [
    "# 对测试集进行预测"
   ]
  },
  {
   "cell_type": "code",
   "execution_count": 39,
   "metadata": {},
   "outputs": [
    {
     "name": "stdout",
     "output_type": "stream",
     "text": [
      "Deep Neural Network\n",
      "Test Accuracy: 98.56500\n"
     ]
    }
   ],
   "source": [
    "preds = pd.DataFrame(dnn.predict(X_test))\n",
    "preds = preds.idxmax(axis=1)\n",
    "y_test = y_test.dot([0,1,2])\n",
    "model_acc = (preds == y_test).sum().astype(float) / len(preds) * 100\n",
    "\n",
    "print('Deep Neural Network')\n",
    "print('Test Accuracy: %3.5f' % (model_acc))"
   ]
  },
  {
   "cell_type": "markdown",
   "metadata": {},
   "source": [
    "## 混淆矩阵\n",
    "\n",
    "纵轴为真实分类，横轴为网络分类\n",
    "\n",
    "sklearn.metrics.confusion_matrix(y_true, y_pred, labels=None, sample_weight=None)\n",
    "\n",
    "y_true: 是样本真实分类结果，y_pred: 是样本预测分类结果\n",
    "labels：是所给出的类别，通过这个可对类别进行选择\n",
    "sample_weight : 样本权重"
   ]
  },
  {
   "cell_type": "code",
   "execution_count": 43,
   "metadata": {},
   "outputs": [
    {
     "data": {
      "image/png": "[encoded data removed]",
      "text/plain": [
       "<Figure size 432x288 with 2 Axes>"
      ]
     },
     "metadata": {
      "needs_background": "light"
     },
     "output_type": "display_data"
    }
   ],
   "source": [
    "labels = np.unique(sdss_df['class'])\n",
    "ax = plt.subplot(1, 1, 1)\n",
    "ax.set_aspect(1)\n",
    "plt.subplots_adjust(wspace = 0.3)\n",
    "sns.heatmap(confusion_matrix(y_test, preds), annot=True,fmt='d', xticklabels = labels, yticklabels = labels,\n",
    "                  cbar_kws={'orientation': 'horizontal'})\n",
    "plt.xlabel('Actual values')\n",
    "plt.ylabel('Predicted values')\n",
    "plt.title('Deep Neural Network')\n",
    "plt.show()"
   ]
  },
  {
   "cell_type": "markdown",
   "metadata": {},
   "source": [
    "## 精确率和召回率"
   ]
  },
  {
   "cell_type": "code",
   "execution_count": 45,
   "metadata": {},
   "outputs": [
    {
     "name": "stdout",
     "output_type": "stream",
     "text": [
      "Recall:  [0.99385347 0.96754177 0.97991814]\n",
      "Precision:  [0.97833512 0.96892925 1.        ]\n"
     ]
    }
   ],
   "source": [
    "cm = confusion_matrix(y_test, preds)\n",
    "precision = np.diag(cm) / np.sum(cm, axis = 0)\n",
    "recall = np.diag(cm) / np.sum(cm, axis = 1)\n",
    "\n",
    "print('Recall: ', precision)\n",
    "print('Precision: ', recall)"
   ]
  },
  {
   "cell_type": "code",
   "execution_count": 46,
   "metadata": {},
   "outputs": [
    {
     "data": {
      "text/plain": [
       "array([[10025,    68,   154],\n",
       "       [   62,  2027,     3],\n",
       "       [    0,     0,  7661]], dtype=int64)"
      ]
     },
     "execution_count": 46,
     "metadata": {},
     "output_type": "execute_result"
    }
   ],
   "source": [
    "cm"
   ]
  },
  {
   "cell_type": "markdown",
   "metadata": {},
   "source": [
    "星系的精度为97.8％，召回率为99.3％。\n",
    "\n",
    "类星体的精度为96.8％，召回率为96.7％。\n",
    "\n",
    "恒星的精度为100％，召回率为97.9％。\n",
    "\n",
    "换句话说，我的模型在星系和恒星上的性能要比类星体好得多。这是有道理的，因为类星体在我的100,000个样本中是少数。"
   ]
  },
  {
   "cell_type": "code",
   "execution_count": null,
   "metadata": {},
   "outputs": [],
   "source": []
  },
  {
   "cell_type": "code",
   "execution_count": null,
   "metadata": {},
   "outputs": [],
   "source": []
  },
  {
   "cell_type": "code",
   "execution_count": null,
   "metadata": {},
   "outputs": [],
   "source": []
  },
  {
   "cell_type": "code",
   "execution_count": null,
   "metadata": {},
   "outputs": [],
   "source": []
  }
 ],
 "metadata": {
  "kernelspec": {
   "display_name": "py38",
   "language": "python",
   "name": "py38"
  },
  "language_info": {
   "codemirror_mode": {
    "name": "ipython",
    "version": 3
   },
   "file_extension": ".py",
   "mimetype": "text/x-python",
   "name": "python",
   "nbconvert_exporter": "python",
   "pygments_lexer": "ipython3",
   "version": "3.8.5"
  }
 },
 "nbformat": 4,
 "nbformat_minor": 4
}
